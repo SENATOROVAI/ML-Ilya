{
 "cells": [
  {
   "cell_type": "code",
   "execution_count": 2,
   "metadata": {},
   "outputs": [
    {
     "data": {
      "text/plain": [
       "'Логирование уроков.'"
      ]
     },
     "execution_count": 2,
     "metadata": {},
     "output_type": "execute_result"
    }
   ],
   "source": [
    "\"\"\"Логирование уроков.\"\"\""
   ]
  },
  {
   "cell_type": "markdown",
   "metadata": {},
   "source": [
    "23.07.2024\n",
    "1. разобрали диаграммы Эйллера-Вена, рассмотрели виды чисел, множества и их взаимодействия(Пересечение, симметрическая разность, вхождение) Рассмотрели некоторые условные обозначения. Пример с ростом, весом, обхватом шеи как векторов. Формула косинусного сходства.\n",
    "2. Первичное знакомство с гитхаб, кагл, ods.\n",
    "3. Понятие векторов (направленный отрезок в системе координат)"
   ]
  },
  {
   "cell_type": "markdown",
   "metadata": {},
   "source": [
    "24.07.2024\n",
    "Мощная регистрация на kaggle"
   ]
  }
 ],
 "metadata": {
  "kernelspec": {
   "display_name": "Python 3",
   "language": "python",
   "name": "python3"
  },
  "language_info": {
   "codemirror_mode": {
    "name": "ipython",
    "version": 3
   },
   "file_extension": ".py",
   "mimetype": "text/x-python",
   "name": "python",
   "nbconvert_exporter": "python",
   "pygments_lexer": "ipython3",
   "version": "3.11.5"
  }
 },
 "nbformat": 4,
 "nbformat_minor": 2
}
